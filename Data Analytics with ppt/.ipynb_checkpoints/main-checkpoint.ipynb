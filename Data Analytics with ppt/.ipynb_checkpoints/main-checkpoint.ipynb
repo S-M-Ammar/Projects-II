{
 "cells": [
  {
   "cell_type": "markdown",
   "metadata": {},
   "source": [
    "## Importing required libraries"
   ]
  },
  {
   "cell_type": "code",
   "execution_count": 1,
   "metadata": {},
   "outputs": [
    {
     "data": {
      "text/plain": [
       "<Figure size 1152x648 with 0 Axes>"
      ]
     },
     "metadata": {},
     "output_type": "display_data"
    }
   ],
   "source": [
    "import pandas as pd\n",
    "import numpy as np\n",
    "import seaborn as sns\n",
    "from matplotlib import pyplot as plt\n",
    "%matplotlib inline\n",
    "plt.figure(figsize=(16,9))\n",
    "sns.set_style(\"darkgrid\")\n",
    "sns.set(rc={'figure.figsize':(18.7,10.27)})"
   ]
  },
  {
   "cell_type": "markdown",
   "metadata": {},
   "source": [
    "## Readind data part-1"
   ]
  },
  {
   "cell_type": "code",
   "execution_count": 2,
   "metadata": {},
   "outputs": [
    {
     "data": {
      "text/html": [
       "<div>\n",
       "<style scoped>\n",
       "    .dataframe tbody tr th:only-of-type {\n",
       "        vertical-align: middle;\n",
       "    }\n",
       "\n",
       "    .dataframe tbody tr th {\n",
       "        vertical-align: top;\n",
       "    }\n",
       "\n",
       "    .dataframe thead th {\n",
       "        text-align: right;\n",
       "    }\n",
       "</style>\n",
       "<table border=\"1\" class=\"dataframe\">\n",
       "  <thead>\n",
       "    <tr style=\"text-align: right;\">\n",
       "      <th></th>\n",
       "      <th>broker_name</th>\n",
       "      <th>city_state</th>\n",
       "      <th>territory</th>\n",
       "      <th>fund_category</th>\n",
       "      <th>firm_x_sales</th>\n",
       "      <th>total_industry_sales</th>\n",
       "      <th>email_open</th>\n",
       "      <th>web_visit</th>\n",
       "      <th>webcast_attendee</th>\n",
       "      <th>marketing_engaged</th>\n",
       "    </tr>\n",
       "  </thead>\n",
       "  <tbody>\n",
       "    <tr>\n",
       "      <th>0</th>\n",
       "      <td>Broker0001</td>\n",
       "      <td>OVERLAND PARK, KS</td>\n",
       "      <td>I47</td>\n",
       "      <td>Intermediate-Term Bond</td>\n",
       "      <td>0.00</td>\n",
       "      <td>179227.86</td>\n",
       "      <td>N</td>\n",
       "      <td>Y</td>\n",
       "      <td>N</td>\n",
       "      <td>Engaged</td>\n",
       "    </tr>\n",
       "    <tr>\n",
       "      <th>1</th>\n",
       "      <td>Broker0002</td>\n",
       "      <td>GREAT NECK, NY</td>\n",
       "      <td>I48</td>\n",
       "      <td>Short-Term Bond</td>\n",
       "      <td>0.00</td>\n",
       "      <td>21956.00</td>\n",
       "      <td>Y</td>\n",
       "      <td>Y</td>\n",
       "      <td>Y</td>\n",
       "      <td>Engaged</td>\n",
       "    </tr>\n",
       "    <tr>\n",
       "      <th>2</th>\n",
       "      <td>Broker0003</td>\n",
       "      <td>PITTSBURGH, PA</td>\n",
       "      <td>I09</td>\n",
       "      <td>Diversified Emerging Mkts</td>\n",
       "      <td>0.00</td>\n",
       "      <td>53223.03</td>\n",
       "      <td>N</td>\n",
       "      <td>N</td>\n",
       "      <td>N</td>\n",
       "      <td>Not engaged</td>\n",
       "    </tr>\n",
       "    <tr>\n",
       "      <th>3</th>\n",
       "      <td>Broker0004</td>\n",
       "      <td>FAIRFIELD, CT</td>\n",
       "      <td>I25</td>\n",
       "      <td>Foreign Large Blend</td>\n",
       "      <td>0.00</td>\n",
       "      <td>595799.49</td>\n",
       "      <td>Y</td>\n",
       "      <td>N</td>\n",
       "      <td>N</td>\n",
       "      <td>Engaged</td>\n",
       "    </tr>\n",
       "    <tr>\n",
       "      <th>4</th>\n",
       "      <td>Broker0005</td>\n",
       "      <td>LAWTON, OK</td>\n",
       "      <td>W27</td>\n",
       "      <td>Bank Loan</td>\n",
       "      <td>0.00</td>\n",
       "      <td>0.00</td>\n",
       "      <td>Y</td>\n",
       "      <td>N</td>\n",
       "      <td>N</td>\n",
       "      <td>Engaged</td>\n",
       "    </tr>\n",
       "    <tr>\n",
       "      <th>...</th>\n",
       "      <td>...</td>\n",
       "      <td>...</td>\n",
       "      <td>...</td>\n",
       "      <td>...</td>\n",
       "      <td>...</td>\n",
       "      <td>...</td>\n",
       "      <td>...</td>\n",
       "      <td>...</td>\n",
       "      <td>...</td>\n",
       "      <td>...</td>\n",
       "    </tr>\n",
       "    <tr>\n",
       "      <th>859995</th>\n",
       "      <td>Broker0013</td>\n",
       "      <td>AUSTIN, TX</td>\n",
       "      <td>I05</td>\n",
       "      <td>High Yield Muni</td>\n",
       "      <td>0.00</td>\n",
       "      <td>182968.50</td>\n",
       "      <td>Y</td>\n",
       "      <td>Y</td>\n",
       "      <td>N</td>\n",
       "      <td>Engaged</td>\n",
       "    </tr>\n",
       "    <tr>\n",
       "      <th>859996</th>\n",
       "      <td>Broker0026</td>\n",
       "      <td>FLORAL PARK, NY</td>\n",
       "      <td>I48</td>\n",
       "      <td>Small Growth</td>\n",
       "      <td>0.00</td>\n",
       "      <td>839350.00</td>\n",
       "      <td>N</td>\n",
       "      <td>N</td>\n",
       "      <td>N</td>\n",
       "      <td>Not engaged</td>\n",
       "    </tr>\n",
       "    <tr>\n",
       "      <th>859997</th>\n",
       "      <td>Broker0001</td>\n",
       "      <td>INDEPENDENCE, MO</td>\n",
       "      <td>I47</td>\n",
       "      <td>Diversified Emerging Mkts</td>\n",
       "      <td>0.00</td>\n",
       "      <td>22179.73</td>\n",
       "      <td>Y</td>\n",
       "      <td>Y</td>\n",
       "      <td>N</td>\n",
       "      <td>Engaged</td>\n",
       "    </tr>\n",
       "    <tr>\n",
       "      <th>859998</th>\n",
       "      <td>Broker0069</td>\n",
       "      <td>NAPLES, FL</td>\n",
       "      <td>I15</td>\n",
       "      <td>Utilities</td>\n",
       "      <td>0.00</td>\n",
       "      <td>0.00</td>\n",
       "      <td>Y</td>\n",
       "      <td>N</td>\n",
       "      <td>N</td>\n",
       "      <td>Engaged</td>\n",
       "    </tr>\n",
       "    <tr>\n",
       "      <th>859999</th>\n",
       "      <td>Broker0024</td>\n",
       "      <td>NEW HARTFORD, NY</td>\n",
       "      <td>W37</td>\n",
       "      <td>Small Blend</td>\n",
       "      <td>22597.82</td>\n",
       "      <td>30644.33</td>\n",
       "      <td>Y</td>\n",
       "      <td>Y</td>\n",
       "      <td>N</td>\n",
       "      <td>Engaged</td>\n",
       "    </tr>\n",
       "  </tbody>\n",
       "</table>\n",
       "<p>860000 rows × 10 columns</p>\n",
       "</div>"
      ],
      "text/plain": [
       "       broker_name         city_state territory              fund_category  \\\n",
       "0       Broker0001  OVERLAND PARK, KS       I47     Intermediate-Term Bond   \n",
       "1       Broker0002     GREAT NECK, NY       I48            Short-Term Bond   \n",
       "2       Broker0003     PITTSBURGH, PA       I09  Diversified Emerging Mkts   \n",
       "3       Broker0004      FAIRFIELD, CT       I25        Foreign Large Blend   \n",
       "4       Broker0005         LAWTON, OK       W27                  Bank Loan   \n",
       "...            ...                ...       ...                        ...   \n",
       "859995  Broker0013         AUSTIN, TX       I05            High Yield Muni   \n",
       "859996  Broker0026    FLORAL PARK, NY       I48               Small Growth   \n",
       "859997  Broker0001   INDEPENDENCE, MO       I47  Diversified Emerging Mkts   \n",
       "859998  Broker0069         NAPLES, FL       I15                  Utilities   \n",
       "859999  Broker0024   NEW HARTFORD, NY       W37                Small Blend   \n",
       "\n",
       "        firm_x_sales  total_industry_sales email_open web_visit  \\\n",
       "0               0.00             179227.86          N         Y   \n",
       "1               0.00              21956.00          Y         Y   \n",
       "2               0.00              53223.03          N         N   \n",
       "3               0.00             595799.49          Y         N   \n",
       "4               0.00                  0.00          Y         N   \n",
       "...              ...                   ...        ...       ...   \n",
       "859995          0.00             182968.50          Y         Y   \n",
       "859996          0.00             839350.00          N         N   \n",
       "859997          0.00              22179.73          Y         Y   \n",
       "859998          0.00                  0.00          Y         N   \n",
       "859999      22597.82              30644.33          Y         Y   \n",
       "\n",
       "       webcast_attendee marketing_engaged  \n",
       "0                     N           Engaged  \n",
       "1                     Y           Engaged  \n",
       "2                     N       Not engaged  \n",
       "3                     N           Engaged  \n",
       "4                     N           Engaged  \n",
       "...                 ...               ...  \n",
       "859995                N           Engaged  \n",
       "859996                N       Not engaged  \n",
       "859997                N           Engaged  \n",
       "859998                N           Engaged  \n",
       "859999                N           Engaged  \n",
       "\n",
       "[860000 rows x 10 columns]"
      ]
     },
     "execution_count": 2,
     "metadata": {},
     "output_type": "execute_result"
    }
   ],
   "source": [
    "df_1 = pd.read_csv('./data/Analytics_Data1.txt',sep=\";\")\n",
    "df_1"
   ]
  },
  {
   "cell_type": "markdown",
   "metadata": {},
   "source": [
    "## Readind data part-2"
   ]
  },
  {
   "cell_type": "code",
   "execution_count": 3,
   "metadata": {},
   "outputs": [],
   "source": [
    "df_2 = pd.read_csv('./data/Analytics_Data2.txt',sep=\";\")\n"
   ]
  },
  {
   "cell_type": "markdown",
   "metadata": {},
   "source": [
    "## Merging both dataframe into one single dataframe"
   ]
  },
  {
   "cell_type": "code",
   "execution_count": 4,
   "metadata": {},
   "outputs": [
    {
     "data": {
      "text/html": [
       "<div>\n",
       "<style scoped>\n",
       "    .dataframe tbody tr th:only-of-type {\n",
       "        vertical-align: middle;\n",
       "    }\n",
       "\n",
       "    .dataframe tbody tr th {\n",
       "        vertical-align: top;\n",
       "    }\n",
       "\n",
       "    .dataframe thead th {\n",
       "        text-align: right;\n",
       "    }\n",
       "</style>\n",
       "<table border=\"1\" class=\"dataframe\">\n",
       "  <thead>\n",
       "    <tr style=\"text-align: right;\">\n",
       "      <th></th>\n",
       "      <th>broker_name</th>\n",
       "      <th>city_state</th>\n",
       "      <th>territory</th>\n",
       "      <th>fund_category</th>\n",
       "      <th>firm_x_sales</th>\n",
       "      <th>total_industry_sales</th>\n",
       "      <th>email_open</th>\n",
       "      <th>web_visit</th>\n",
       "      <th>webcast_attendee</th>\n",
       "      <th>marketing_engaged</th>\n",
       "    </tr>\n",
       "  </thead>\n",
       "  <tbody>\n",
       "    <tr>\n",
       "      <th>0</th>\n",
       "      <td>Broker0001</td>\n",
       "      <td>OVERLAND PARK, KS</td>\n",
       "      <td>I47</td>\n",
       "      <td>Intermediate-Term Bond</td>\n",
       "      <td>0.0</td>\n",
       "      <td>179227.86</td>\n",
       "      <td>N</td>\n",
       "      <td>Y</td>\n",
       "      <td>N</td>\n",
       "      <td>Engaged</td>\n",
       "    </tr>\n",
       "    <tr>\n",
       "      <th>1</th>\n",
       "      <td>Broker0002</td>\n",
       "      <td>GREAT NECK, NY</td>\n",
       "      <td>I48</td>\n",
       "      <td>Short-Term Bond</td>\n",
       "      <td>0.0</td>\n",
       "      <td>21956.00</td>\n",
       "      <td>Y</td>\n",
       "      <td>Y</td>\n",
       "      <td>Y</td>\n",
       "      <td>Engaged</td>\n",
       "    </tr>\n",
       "    <tr>\n",
       "      <th>2</th>\n",
       "      <td>Broker0003</td>\n",
       "      <td>PITTSBURGH, PA</td>\n",
       "      <td>I09</td>\n",
       "      <td>Diversified Emerging Mkts</td>\n",
       "      <td>0.0</td>\n",
       "      <td>53223.03</td>\n",
       "      <td>N</td>\n",
       "      <td>N</td>\n",
       "      <td>N</td>\n",
       "      <td>Not engaged</td>\n",
       "    </tr>\n",
       "    <tr>\n",
       "      <th>3</th>\n",
       "      <td>Broker0004</td>\n",
       "      <td>FAIRFIELD, CT</td>\n",
       "      <td>I25</td>\n",
       "      <td>Foreign Large Blend</td>\n",
       "      <td>0.0</td>\n",
       "      <td>595799.49</td>\n",
       "      <td>Y</td>\n",
       "      <td>N</td>\n",
       "      <td>N</td>\n",
       "      <td>Engaged</td>\n",
       "    </tr>\n",
       "    <tr>\n",
       "      <th>4</th>\n",
       "      <td>Broker0005</td>\n",
       "      <td>LAWTON, OK</td>\n",
       "      <td>W27</td>\n",
       "      <td>Bank Loan</td>\n",
       "      <td>0.0</td>\n",
       "      <td>0.00</td>\n",
       "      <td>Y</td>\n",
       "      <td>N</td>\n",
       "      <td>N</td>\n",
       "      <td>Engaged</td>\n",
       "    </tr>\n",
       "    <tr>\n",
       "      <th>...</th>\n",
       "      <td>...</td>\n",
       "      <td>...</td>\n",
       "      <td>...</td>\n",
       "      <td>...</td>\n",
       "      <td>...</td>\n",
       "      <td>...</td>\n",
       "      <td>...</td>\n",
       "      <td>...</td>\n",
       "      <td>...</td>\n",
       "      <td>...</td>\n",
       "    </tr>\n",
       "    <tr>\n",
       "      <th>874105</th>\n",
       "      <td>Broker0047</td>\n",
       "      <td>GLENELG, MD</td>\n",
       "      <td>I42</td>\n",
       "      <td>World Stock</td>\n",
       "      <td>0.0</td>\n",
       "      <td>0.00</td>\n",
       "      <td>N</td>\n",
       "      <td>N</td>\n",
       "      <td>N</td>\n",
       "      <td>Not engaged</td>\n",
       "    </tr>\n",
       "    <tr>\n",
       "      <th>874106</th>\n",
       "      <td>Broker0019</td>\n",
       "      <td>WEXFORD, PA</td>\n",
       "      <td>I09</td>\n",
       "      <td>Multialternative</td>\n",
       "      <td>0.0</td>\n",
       "      <td>30558.28</td>\n",
       "      <td>N</td>\n",
       "      <td>N</td>\n",
       "      <td>N</td>\n",
       "      <td>Not engaged</td>\n",
       "    </tr>\n",
       "    <tr>\n",
       "      <th>874107</th>\n",
       "      <td>Broker0089</td>\n",
       "      <td>VIRGINIA BEACH, VA</td>\n",
       "      <td>I13</td>\n",
       "      <td>Inflation-Protected Bond</td>\n",
       "      <td>0.0</td>\n",
       "      <td>0.00</td>\n",
       "      <td>Y</td>\n",
       "      <td>Y</td>\n",
       "      <td>Y</td>\n",
       "      <td>Engaged</td>\n",
       "    </tr>\n",
       "    <tr>\n",
       "      <th>874108</th>\n",
       "      <td>Broker0050</td>\n",
       "      <td>LAS CRUCES, NM</td>\n",
       "      <td>I04</td>\n",
       "      <td>Foreign Large Growth</td>\n",
       "      <td>0.0</td>\n",
       "      <td>0.00</td>\n",
       "      <td>N</td>\n",
       "      <td>N</td>\n",
       "      <td>N</td>\n",
       "      <td>Engaged</td>\n",
       "    </tr>\n",
       "    <tr>\n",
       "      <th>874109</th>\n",
       "      <td>Broker0022</td>\n",
       "      <td>ROCHESTER HILLS, MI</td>\n",
       "      <td>I08</td>\n",
       "      <td>Bank Loan</td>\n",
       "      <td>0.0</td>\n",
       "      <td>5000.00</td>\n",
       "      <td>N</td>\n",
       "      <td>N</td>\n",
       "      <td>N</td>\n",
       "      <td>Not engaged</td>\n",
       "    </tr>\n",
       "  </tbody>\n",
       "</table>\n",
       "<p>1734110 rows × 10 columns</p>\n",
       "</div>"
      ],
      "text/plain": [
       "       broker_name           city_state territory              fund_category  \\\n",
       "0       Broker0001    OVERLAND PARK, KS       I47     Intermediate-Term Bond   \n",
       "1       Broker0002       GREAT NECK, NY       I48            Short-Term Bond   \n",
       "2       Broker0003       PITTSBURGH, PA       I09  Diversified Emerging Mkts   \n",
       "3       Broker0004        FAIRFIELD, CT       I25        Foreign Large Blend   \n",
       "4       Broker0005           LAWTON, OK       W27                  Bank Loan   \n",
       "...            ...                  ...       ...                        ...   \n",
       "874105  Broker0047          GLENELG, MD       I42                World Stock   \n",
       "874106  Broker0019          WEXFORD, PA       I09           Multialternative   \n",
       "874107  Broker0089   VIRGINIA BEACH, VA       I13   Inflation-Protected Bond   \n",
       "874108  Broker0050       LAS CRUCES, NM       I04       Foreign Large Growth   \n",
       "874109  Broker0022  ROCHESTER HILLS, MI       I08                  Bank Loan   \n",
       "\n",
       "        firm_x_sales  total_industry_sales email_open web_visit  \\\n",
       "0                0.0             179227.86          N         Y   \n",
       "1                0.0              21956.00          Y         Y   \n",
       "2                0.0              53223.03          N         N   \n",
       "3                0.0             595799.49          Y         N   \n",
       "4                0.0                  0.00          Y         N   \n",
       "...              ...                   ...        ...       ...   \n",
       "874105           0.0                  0.00          N         N   \n",
       "874106           0.0              30558.28          N         N   \n",
       "874107           0.0                  0.00          Y         Y   \n",
       "874108           0.0                  0.00          N         N   \n",
       "874109           0.0               5000.00          N         N   \n",
       "\n",
       "       webcast_attendee marketing_engaged  \n",
       "0                     N           Engaged  \n",
       "1                     Y           Engaged  \n",
       "2                     N       Not engaged  \n",
       "3                     N           Engaged  \n",
       "4                     N           Engaged  \n",
       "...                 ...               ...  \n",
       "874105                N       Not engaged  \n",
       "874106                N       Not engaged  \n",
       "874107                Y           Engaged  \n",
       "874108                N           Engaged  \n",
       "874109                N       Not engaged  \n",
       "\n",
       "[1734110 rows x 10 columns]"
      ]
     },
     "execution_count": 4,
     "metadata": {},
     "output_type": "execute_result"
    }
   ],
   "source": [
    "df = pd.concat([df_1,df_2],axis=0)\n",
    "df"
   ]
  },
  {
   "cell_type": "markdown",
   "metadata": {},
   "source": [
    "## Checking types of columns "
   ]
  },
  {
   "cell_type": "code",
   "execution_count": 5,
   "metadata": {},
   "outputs": [
    {
     "name": "stdout",
     "output_type": "stream",
     "text": [
      "<class 'pandas.core.frame.DataFrame'>\n",
      "Int64Index: 1734110 entries, 0 to 874109\n",
      "Data columns (total 10 columns):\n",
      " #   Column                Dtype  \n",
      "---  ------                -----  \n",
      " 0   broker_name           object \n",
      " 1   city_state            object \n",
      " 2   territory             object \n",
      " 3   fund_category         object \n",
      " 4   firm_x_sales          float64\n",
      " 5   total_industry_sales  float64\n",
      " 6   email_open            object \n",
      " 7   web_visit             object \n",
      " 8   webcast_attendee      object \n",
      " 9   marketing_engaged     object \n",
      "dtypes: float64(2), object(8)\n",
      "memory usage: 145.5+ MB\n"
     ]
    }
   ],
   "source": [
    "df.info()"
   ]
  },
  {
   "cell_type": "markdown",
   "metadata": {},
   "source": [
    "## Plotting null values of columns if there is any in dataset "
   ]
  },
  {
   "cell_type": "code",
   "execution_count": 6,
   "metadata": {},
   "outputs": [
    {
     "data": {
      "text/plain": [
       "<BarContainer object of 10 artists>"
      ]
     },
     "execution_count": 6,
     "metadata": {},
     "output_type": "execute_result"
    },
    {
     "data": {
      "image/png": "[encoded data removed]",
      "text/plain": [
       "<Figure size 2160x720 with 1 Axes>"
      ]
     },
     "metadata": {},
     "output_type": "display_data"
    }
   ],
   "source": [
    "nan_columns = []\n",
    "nan_values = []\n",
    "\n",
    "for column in df.columns:\n",
    "    nan_columns.append(column)\n",
    "    nan_values.append(df[column].isnull().sum())\n",
    "\n",
    "fig, ax = plt.subplots(figsize=(30,10))\n",
    "plt.bar(nan_columns, nan_values)"
   ]
  },
  {
   "cell_type": "markdown",
   "metadata": {},
   "source": [
    "## As the dataset don't contain any null values, we will now remove irrelevant columns"
   ]
  },
  {
   "cell_type": "code",
   "execution_count": 7,
   "metadata": {},
   "outputs": [
    {
     "data": {
      "text/html": [
       "<div>\n",
       "<style scoped>\n",
       "    .dataframe tbody tr th:only-of-type {\n",
       "        vertical-align: middle;\n",
       "    }\n",
       "\n",
       "    .dataframe tbody tr th {\n",
       "        vertical-align: top;\n",
       "    }\n",
       "\n",
       "    .dataframe thead th {\n",
       "        text-align: right;\n",
       "    }\n",
       "</style>\n",
       "<table border=\"1\" class=\"dataframe\">\n",
       "  <thead>\n",
       "    <tr style=\"text-align: right;\">\n",
       "      <th></th>\n",
       "      <th>broker_name</th>\n",
       "      <th>city_state</th>\n",
       "      <th>territory</th>\n",
       "      <th>fund_category</th>\n",
       "      <th>firm_x_sales</th>\n",
       "      <th>total_industry_sales</th>\n",
       "    </tr>\n",
       "  </thead>\n",
       "  <tbody>\n",
       "    <tr>\n",
       "      <th>0</th>\n",
       "      <td>Broker0001</td>\n",
       "      <td>OVERLAND PARK, KS</td>\n",
       "      <td>I47</td>\n",
       "      <td>Intermediate-Term Bond</td>\n",
       "      <td>0.0</td>\n",
       "      <td>179227.86</td>\n",
       "    </tr>\n",
       "    <tr>\n",
       "      <th>1</th>\n",
       "      <td>Broker0002</td>\n",
       "      <td>GREAT NECK, NY</td>\n",
       "      <td>I48</td>\n",
       "      <td>Short-Term Bond</td>\n",
       "      <td>0.0</td>\n",
       "      <td>21956.00</td>\n",
       "    </tr>\n",
       "    <tr>\n",
       "      <th>2</th>\n",
       "      <td>Broker0003</td>\n",
       "      <td>PITTSBURGH, PA</td>\n",
       "      <td>I09</td>\n",
       "      <td>Diversified Emerging Mkts</td>\n",
       "      <td>0.0</td>\n",
       "      <td>53223.03</td>\n",
       "    </tr>\n",
       "    <tr>\n",
       "      <th>3</th>\n",
       "      <td>Broker0004</td>\n",
       "      <td>FAIRFIELD, CT</td>\n",
       "      <td>I25</td>\n",
       "      <td>Foreign Large Blend</td>\n",
       "      <td>0.0</td>\n",
       "      <td>595799.49</td>\n",
       "    </tr>\n",
       "    <tr>\n",
       "      <th>4</th>\n",
       "      <td>Broker0005</td>\n",
       "      <td>LAWTON, OK</td>\n",
       "      <td>W27</td>\n",
       "      <td>Bank Loan</td>\n",
       "      <td>0.0</td>\n",
       "      <td>0.00</td>\n",
       "    </tr>\n",
       "    <tr>\n",
       "      <th>...</th>\n",
       "      <td>...</td>\n",
       "      <td>...</td>\n",
       "      <td>...</td>\n",
       "      <td>...</td>\n",
       "      <td>...</td>\n",
       "      <td>...</td>\n",
       "    </tr>\n",
       "    <tr>\n",
       "      <th>874105</th>\n",
       "      <td>Broker0047</td>\n",
       "      <td>GLENELG, MD</td>\n",
       "      <td>I42</td>\n",
       "      <td>World Stock</td>\n",
       "      <td>0.0</td>\n",
       "      <td>0.00</td>\n",
       "    </tr>\n",
       "    <tr>\n",
       "      <th>874106</th>\n",
       "      <td>Broker0019</td>\n",
       "      <td>WEXFORD, PA</td>\n",
       "      <td>I09</td>\n",
       "      <td>Multialternative</td>\n",
       "      <td>0.0</td>\n",
       "      <td>30558.28</td>\n",
       "    </tr>\n",
       "    <tr>\n",
       "      <th>874107</th>\n",
       "      <td>Broker0089</td>\n",
       "      <td>VIRGINIA BEACH, VA</td>\n",
       "      <td>I13</td>\n",
       "      <td>Inflation-Protected Bond</td>\n",
       "      <td>0.0</td>\n",
       "      <td>0.00</td>\n",
       "    </tr>\n",
       "    <tr>\n",
       "      <th>874108</th>\n",
       "      <td>Broker0050</td>\n",
       "      <td>LAS CRUCES, NM</td>\n",
       "      <td>I04</td>\n",
       "      <td>Foreign Large Growth</td>\n",
       "      <td>0.0</td>\n",
       "      <td>0.00</td>\n",
       "    </tr>\n",
       "    <tr>\n",
       "      <th>874109</th>\n",
       "      <td>Broker0022</td>\n",
       "      <td>ROCHESTER HILLS, MI</td>\n",
       "      <td>I08</td>\n",
       "      <td>Bank Loan</td>\n",
       "      <td>0.0</td>\n",
       "      <td>5000.00</td>\n",
       "    </tr>\n",
       "  </tbody>\n",
       "</table>\n",
       "<p>1734110 rows × 6 columns</p>\n",
       "</div>"
      ],
      "text/plain": [
       "       broker_name           city_state territory              fund_category  \\\n",
       "0       Broker0001    OVERLAND PARK, KS       I47     Intermediate-Term Bond   \n",
       "1       Broker0002       GREAT NECK, NY       I48            Short-Term Bond   \n",
       "2       Broker0003       PITTSBURGH, PA       I09  Diversified Emerging Mkts   \n",
       "3       Broker0004        FAIRFIELD, CT       I25        Foreign Large Blend   \n",
       "4       Broker0005           LAWTON, OK       W27                  Bank Loan   \n",
       "...            ...                  ...       ...                        ...   \n",
       "874105  Broker0047          GLENELG, MD       I42                World Stock   \n",
       "874106  Broker0019          WEXFORD, PA       I09           Multialternative   \n",
       "874107  Broker0089   VIRGINIA BEACH, VA       I13   Inflation-Protected Bond   \n",
       "874108  Broker0050       LAS CRUCES, NM       I04       Foreign Large Growth   \n",
       "874109  Broker0022  ROCHESTER HILLS, MI       I08                  Bank Loan   \n",
       "\n",
       "        firm_x_sales  total_industry_sales  \n",
       "0                0.0             179227.86  \n",
       "1                0.0              21956.00  \n",
       "2                0.0              53223.03  \n",
       "3                0.0             595799.49  \n",
       "4                0.0                  0.00  \n",
       "...              ...                   ...  \n",
       "874105           0.0                  0.00  \n",
       "874106           0.0              30558.28  \n",
       "874107           0.0                  0.00  \n",
       "874108           0.0                  0.00  \n",
       "874109           0.0               5000.00  \n",
       "\n",
       "[1734110 rows x 6 columns]"
      ]
     },
     "execution_count": 7,
     "metadata": {},
     "output_type": "execute_result"
    }
   ],
   "source": [
    "df.drop(labels=['email_open', 'web_visit','webcast_attendee', 'marketing_engaged'],axis=1,inplace=True)\n",
    "df"
   ]
  },
  {
   "cell_type": "markdown",
   "metadata": {},
   "source": [
    "## Let's start with broker."
   ]
  },
  {
   "cell_type": "markdown",
   "metadata": {},
   "source": [
    "### Top 10 brokers according to total_industry sales"
   ]
  },
  {
   "cell_type": "code",
   "execution_count": 8,
   "metadata": {},
   "outputs": [
    {
     "data": {
      "text/html": [
       "<div>\n",
       "<style scoped>\n",
       "    .dataframe tbody tr th:only-of-type {\n",
       "        vertical-align: middle;\n",
       "    }\n",
       "\n",
       "    .dataframe tbody tr th {\n",
       "        vertical-align: top;\n",
       "    }\n",
       "\n",
       "    .dataframe thead th {\n",
       "        text-align: right;\n",
       "    }\n",
       "</style>\n",
       "<table border=\"1\" class=\"dataframe\">\n",
       "  <thead>\n",
       "    <tr style=\"text-align: right;\">\n",
       "      <th></th>\n",
       "      <th>total_industry_sales</th>\n",
       "    </tr>\n",
       "    <tr>\n",
       "      <th>broker_name</th>\n",
       "      <th></th>\n",
       "    </tr>\n",
       "  </thead>\n",
       "  <tbody>\n",
       "    <tr>\n",
       "      <th>Broker0001</th>\n",
       "      <td>7.649342e+10</td>\n",
       "    </tr>\n",
       "    <tr>\n",
       "      <th>Broker0002</th>\n",
       "      <td>7.716258e+07</td>\n",
       "    </tr>\n",
       "    <tr>\n",
       "      <th>Broker0003</th>\n",
       "      <td>1.590980e+10</td>\n",
       "    </tr>\n",
       "    <tr>\n",
       "      <th>Broker0004</th>\n",
       "      <td>9.627892e+09</td>\n",
       "    </tr>\n",
       "    <tr>\n",
       "      <th>Broker0005</th>\n",
       "      <td>6.461302e+10</td>\n",
       "    </tr>\n",
       "    <tr>\n",
       "      <th>...</th>\n",
       "      <td>...</td>\n",
       "    </tr>\n",
       "    <tr>\n",
       "      <th>Broker1881</th>\n",
       "      <td>1.499520e+05</td>\n",
       "    </tr>\n",
       "    <tr>\n",
       "      <th>Broker1882</th>\n",
       "      <td>5.000000e+03</td>\n",
       "    </tr>\n",
       "    <tr>\n",
       "      <th>Broker1883</th>\n",
       "      <td>0.000000e+00</td>\n",
       "    </tr>\n",
       "    <tr>\n",
       "      <th>Broker1884</th>\n",
       "      <td>0.000000e+00</td>\n",
       "    </tr>\n",
       "    <tr>\n",
       "      <th>Broker1885</th>\n",
       "      <td>0.000000e+00</td>\n",
       "    </tr>\n",
       "  </tbody>\n",
       "</table>\n",
       "<p>1885 rows × 1 columns</p>\n",
       "</div>"
      ],
      "text/plain": [
       "             total_industry_sales\n",
       "broker_name                      \n",
       "Broker0001           7.649342e+10\n",
       "Broker0002           7.716258e+07\n",
       "Broker0003           1.590980e+10\n",
       "Broker0004           9.627892e+09\n",
       "Broker0005           6.461302e+10\n",
       "...                           ...\n",
       "Broker1881           1.499520e+05\n",
       "Broker1882           5.000000e+03\n",
       "Broker1883           0.000000e+00\n",
       "Broker1884           0.000000e+00\n",
       "Broker1885           0.000000e+00\n",
       "\n",
       "[1885 rows x 1 columns]"
      ]
     },
     "execution_count": 8,
     "metadata": {},
     "output_type": "execute_result"
    }
   ],
   "source": [
    "total_brokers = pd.DataFrame(df.groupby('broker_name')['total_industry_sales'].sum())\n",
    "total_brokers"
   ]
  },
  {
   "cell_type": "code",
   "execution_count": 9,
   "metadata": {},
   "outputs": [
    {
     "data": {
      "text/html": [
       "<div>\n",
       "<style scoped>\n",
       "    .dataframe tbody tr th:only-of-type {\n",
       "        vertical-align: middle;\n",
       "    }\n",
       "\n",
       "    .dataframe tbody tr th {\n",
       "        vertical-align: top;\n",
       "    }\n",
       "\n",
       "    .dataframe thead th {\n",
       "        text-align: right;\n",
       "    }\n",
       "</style>\n",
       "<table border=\"1\" class=\"dataframe\">\n",
       "  <thead>\n",
       "    <tr style=\"text-align: right;\">\n",
       "      <th></th>\n",
       "      <th>total_industry_sales</th>\n",
       "    </tr>\n",
       "    <tr>\n",
       "      <th>broker_name</th>\n",
       "      <th></th>\n",
       "    </tr>\n",
       "  </thead>\n",
       "  <tbody>\n",
       "    <tr>\n",
       "      <th>Broker0001</th>\n",
       "      <td>7.649342e+10</td>\n",
       "    </tr>\n",
       "    <tr>\n",
       "      <th>Broker0005</th>\n",
       "      <td>6.461302e+10</td>\n",
       "    </tr>\n",
       "    <tr>\n",
       "      <th>Broker0021</th>\n",
       "      <td>4.845037e+10</td>\n",
       "    </tr>\n",
       "    <tr>\n",
       "      <th>Broker0022</th>\n",
       "      <td>3.446916e+10</td>\n",
       "    </tr>\n",
       "    <tr>\n",
       "      <th>Broker0027</th>\n",
       "      <td>3.286700e+10</td>\n",
       "    </tr>\n",
       "    <tr>\n",
       "      <th>...</th>\n",
       "      <td>...</td>\n",
       "    </tr>\n",
       "    <tr>\n",
       "      <th>Broker1606</th>\n",
       "      <td>0.000000e+00</td>\n",
       "    </tr>\n",
       "    <tr>\n",
       "      <th>Broker0921</th>\n",
       "      <td>0.000000e+00</td>\n",
       "    </tr>\n",
       "    <tr>\n",
       "      <th>Broker0922</th>\n",
       "      <td>0.000000e+00</td>\n",
       "    </tr>\n",
       "    <tr>\n",
       "      <th>Broker0923</th>\n",
       "      <td>0.000000e+00</td>\n",
       "    </tr>\n",
       "    <tr>\n",
       "      <th>Broker1885</th>\n",
       "      <td>0.000000e+00</td>\n",
       "    </tr>\n",
       "  </tbody>\n",
       "</table>\n",
       "<p>1885 rows × 1 columns</p>\n",
       "</div>"
      ],
      "text/plain": [
       "             total_industry_sales\n",
       "broker_name                      \n",
       "Broker0001           7.649342e+10\n",
       "Broker0005           6.461302e+10\n",
       "Broker0021           4.845037e+10\n",
       "Broker0022           3.446916e+10\n",
       "Broker0027           3.286700e+10\n",
       "...                           ...\n",
       "Broker1606           0.000000e+00\n",
       "Broker0921           0.000000e+00\n",
       "Broker0922           0.000000e+00\n",
       "Broker0923           0.000000e+00\n",
       "Broker1885           0.000000e+00\n",
       "\n",
       "[1885 rows x 1 columns]"
      ]
     },
     "execution_count": 9,
     "metadata": {},
     "output_type": "execute_result"
    }
   ],
   "source": [
    "# Sorting records in descending order according to total_industry_sales\n",
    "total_brokers = total_brokers.sort_values(by='total_industry_sales',ascending=False)\n",
    "total_brokers"
   ]
  },
  {
   "cell_type": "code",
   "execution_count": 10,
   "metadata": {},
   "outputs": [
    {
     "data": {
      "text/html": [
       "<div>\n",
       "<style scoped>\n",
       "    .dataframe tbody tr th:only-of-type {\n",
       "        vertical-align: middle;\n",
       "    }\n",
       "\n",
       "    .dataframe tbody tr th {\n",
       "        vertical-align: top;\n",
       "    }\n",
       "\n",
       "    .dataframe thead th {\n",
       "        text-align: right;\n",
       "    }\n",
       "</style>\n",
       "<table border=\"1\" class=\"dataframe\">\n",
       "  <thead>\n",
       "    <tr style=\"text-align: right;\">\n",
       "      <th></th>\n",
       "      <th>total_industry_sales</th>\n",
       "    </tr>\n",
       "    <tr>\n",
       "      <th>broker_name</th>\n",
       "      <th></th>\n",
       "    </tr>\n",
       "  </thead>\n",
       "  <tbody>\n",
       "    <tr>\n",
       "      <th>Broker0001</th>\n",
       "      <td>7.649342e+10</td>\n",
       "    </tr>\n",
       "    <tr>\n",
       "      <th>Broker0005</th>\n",
       "      <td>6.461302e+10</td>\n",
       "    </tr>\n",
       "    <tr>\n",
       "      <th>Broker0021</th>\n",
       "      <td>4.845037e+10</td>\n",
       "    </tr>\n",
       "    <tr>\n",
       "      <th>Broker0022</th>\n",
       "      <td>3.446916e+10</td>\n",
       "    </tr>\n",
       "    <tr>\n",
       "      <th>Broker0027</th>\n",
       "      <td>3.286700e+10</td>\n",
       "    </tr>\n",
       "    <tr>\n",
       "      <th>Broker0024</th>\n",
       "      <td>2.851799e+10</td>\n",
       "    </tr>\n",
       "    <tr>\n",
       "      <th>Broker0016</th>\n",
       "      <td>2.844252e+10</td>\n",
       "    </tr>\n",
       "    <tr>\n",
       "      <th>Broker0003</th>\n",
       "      <td>1.590980e+10</td>\n",
       "    </tr>\n",
       "    <tr>\n",
       "      <th>Broker0009</th>\n",
       "      <td>1.232956e+10</td>\n",
       "    </tr>\n",
       "    <tr>\n",
       "      <th>Broker0004</th>\n",
       "      <td>9.627892e+09</td>\n",
       "    </tr>\n",
       "  </tbody>\n",
       "</table>\n",
       "</div>"
      ],
      "text/plain": [
       "             total_industry_sales\n",
       "broker_name                      \n",
       "Broker0001           7.649342e+10\n",
       "Broker0005           6.461302e+10\n",
       "Broker0021           4.845037e+10\n",
       "Broker0022           3.446916e+10\n",
       "Broker0027           3.286700e+10\n",
       "Broker0024           2.851799e+10\n",
       "Broker0016           2.844252e+10\n",
       "Broker0003           1.590980e+10\n",
       "Broker0009           1.232956e+10\n",
       "Broker0004           9.627892e+09"
      ]
     },
     "execution_count": 10,
     "metadata": {},
     "output_type": "execute_result"
    }
   ],
   "source": [
    "# Top 10 brokers\n",
    "top_10_brokers = total_brokers.head(10)\n",
    "top_10_brokers"
   ]
  },
  {
   "cell_type": "code",
   "execution_count": 11,
   "metadata": {},
   "outputs": [
    {
     "data": {
      "text/plain": [
       "<matplotlib.axes._subplots.AxesSubplot at 0x19599c9da20>"
      ]
     },
     "execution_count": 11,
     "metadata": {},
     "output_type": "execute_result"
    },
    {
     "data": {
      "image/png": "[encoded data removed]",
      "text/plain": [
       "<Figure size 1346.4x739.44 with 1 Axes>"
      ]
     },
     "metadata": {},
     "output_type": "display_data"
    }
   ],
   "source": [
    "top_10_brokers.plot()"
   ]
  },
  {
   "cell_type": "code",
   "execution_count": 12,
   "metadata": {},
   "outputs": [
    {
     "data": {
      "text/plain": [
       "<matplotlib.axes._subplots.AxesSubplot at 0x1959a0f2748>"
      ]
     },
     "execution_count": 12,
     "metadata": {},
     "output_type": "execute_result"
    },
    {
     "data": {
      "image/png": "[encoded data removed]",
      "text/plain": [
       "<Figure size 1346.4x739.44 with 1 Axes>"
      ]
     },
     "metadata": {},
     "output_type": "display_data"
    }
   ],
   "source": [
    "sns.barplot(x=top_10_brokers.index.values.tolist(), y=top_10_brokers['total_industry_sales'].values.tolist(), palette='Greens_r')"
   ]
  },
  {
   "cell_type": "code",
   "execution_count": 13,
   "metadata": {},
   "outputs": [
    {
     "data": {
      "text/plain": [
       "<matplotlib.axes._subplots.AxesSubplot at 0x1959814d438>"
      ]
     },
     "execution_count": 13,
     "metadata": {},
     "output_type": "execute_result"
    },
    {
     "data": {
      "image/png": "[encoded data removed]",
      "text/plain": [
       "<Figure size 1346.4x739.44 with 1 Axes>"
      ]
     },
     "metadata": {},
     "output_type": "display_data"
    }
   ],
   "source": [
    "sns.scatterplot(data=top_10_brokers, x=top_10_brokers.index.values.tolist(), y=top_10_brokers['total_industry_sales'].values.tolist(),palette=\"deep\")"
   ]
  },
  {
   "cell_type": "markdown",
   "metadata": {},
   "source": [
    "### Top 10 brokers according to Firm_X "
   ]
  },
  {
   "cell_type": "code",
   "execution_count": 14,
   "metadata": {},
   "outputs": [
    {
     "data": {
      "text/html": [
       "<div>\n",
       "<style scoped>\n",
       "    .dataframe tbody tr th:only-of-type {\n",
       "        vertical-align: middle;\n",
       "    }\n",
       "\n",
       "    .dataframe tbody tr th {\n",
       "        vertical-align: top;\n",
       "    }\n",
       "\n",
       "    .dataframe thead th {\n",
       "        text-align: right;\n",
       "    }\n",
       "</style>\n",
       "<table border=\"1\" class=\"dataframe\">\n",
       "  <thead>\n",
       "    <tr style=\"text-align: right;\">\n",
       "      <th></th>\n",
       "      <th>firm_x_sales</th>\n",
       "    </tr>\n",
       "    <tr>\n",
       "      <th>broker_name</th>\n",
       "      <th></th>\n",
       "    </tr>\n",
       "  </thead>\n",
       "  <tbody>\n",
       "    <tr>\n",
       "      <th>Broker0001</th>\n",
       "      <td>5.041548e+09</td>\n",
       "    </tr>\n",
       "    <tr>\n",
       "      <th>Broker0002</th>\n",
       "      <td>4.186099e+05</td>\n",
       "    </tr>\n",
       "    <tr>\n",
       "      <th>Broker0003</th>\n",
       "      <td>8.282360e+08</td>\n",
       "    </tr>\n",
       "    <tr>\n",
       "      <th>Broker0004</th>\n",
       "      <td>1.671674e+08</td>\n",
       "    </tr>\n",
       "    <tr>\n",
       "      <th>Broker0005</th>\n",
       "      <td>1.817700e+09</td>\n",
       "    </tr>\n",
       "    <tr>\n",
       "      <th>...</th>\n",
       "      <td>...</td>\n",
       "    </tr>\n",
       "    <tr>\n",
       "      <th>Broker1881</th>\n",
       "      <td>0.000000e+00</td>\n",
       "    </tr>\n",
       "    <tr>\n",
       "      <th>Broker1882</th>\n",
       "      <td>0.000000e+00</td>\n",
       "    </tr>\n",
       "    <tr>\n",
       "      <th>Broker1883</th>\n",
       "      <td>0.000000e+00</td>\n",
       "    </tr>\n",
       "    <tr>\n",
       "      <th>Broker1884</th>\n",
       "      <td>0.000000e+00</td>\n",
       "    </tr>\n",
       "    <tr>\n",
       "      <th>Broker1885</th>\n",
       "      <td>0.000000e+00</td>\n",
       "    </tr>\n",
       "  </tbody>\n",
       "</table>\n",
       "<p>1885 rows × 1 columns</p>\n",
       "</div>"
      ],
      "text/plain": [
       "             firm_x_sales\n",
       "broker_name              \n",
       "Broker0001   5.041548e+09\n",
       "Broker0002   4.186099e+05\n",
       "Broker0003   8.282360e+08\n",
       "Broker0004   1.671674e+08\n",
       "Broker0005   1.817700e+09\n",
       "...                   ...\n",
       "Broker1881   0.000000e+00\n",
       "Broker1882   0.000000e+00\n",
       "Broker1883   0.000000e+00\n",
       "Broker1884   0.000000e+00\n",
       "Broker1885   0.000000e+00\n",
       "\n",
       "[1885 rows x 1 columns]"
      ]
     },
     "execution_count": 14,
     "metadata": {},
     "output_type": "execute_result"
    }
   ],
   "source": [
    "total_brokers = pd.DataFrame(df.groupby('broker_name')['firm_x_sales'].sum())\n",
    "total_brokers"
   ]
  },
  {
   "cell_type": "code",
   "execution_count": 15,
   "metadata": {},
   "outputs": [
    {
     "data": {
      "text/html": [
       "<div>\n",
       "<style scoped>\n",
       "    .dataframe tbody tr th:only-of-type {\n",
       "        vertical-align: middle;\n",
       "    }\n",
       "\n",
       "    .dataframe tbody tr th {\n",
       "        vertical-align: top;\n",
       "    }\n",
       "\n",
       "    .dataframe thead th {\n",
       "        text-align: right;\n",
       "    }\n",
       "</style>\n",
       "<table border=\"1\" class=\"dataframe\">\n",
       "  <thead>\n",
       "    <tr style=\"text-align: right;\">\n",
       "      <th></th>\n",
       "      <th>firm_x_sales</th>\n",
       "    </tr>\n",
       "    <tr>\n",
       "      <th>broker_name</th>\n",
       "      <th></th>\n",
       "    </tr>\n",
       "  </thead>\n",
       "  <tbody>\n",
       "    <tr>\n",
       "      <th>Broker0001</th>\n",
       "      <td>5.041548e+09</td>\n",
       "    </tr>\n",
       "    <tr>\n",
       "      <th>Broker0005</th>\n",
       "      <td>1.817700e+09</td>\n",
       "    </tr>\n",
       "    <tr>\n",
       "      <th>Broker0016</th>\n",
       "      <td>1.338868e+09</td>\n",
       "    </tr>\n",
       "    <tr>\n",
       "      <th>Broker0022</th>\n",
       "      <td>1.309999e+09</td>\n",
       "    </tr>\n",
       "    <tr>\n",
       "      <th>Broker0021</th>\n",
       "      <td>1.181644e+09</td>\n",
       "    </tr>\n",
       "    <tr>\n",
       "      <th>...</th>\n",
       "      <td>...</td>\n",
       "    </tr>\n",
       "    <tr>\n",
       "      <th>Broker0829</th>\n",
       "      <td>0.000000e+00</td>\n",
       "    </tr>\n",
       "    <tr>\n",
       "      <th>Broker0828</th>\n",
       "      <td>0.000000e+00</td>\n",
       "    </tr>\n",
       "    <tr>\n",
       "      <th>Broker0827</th>\n",
       "      <td>0.000000e+00</td>\n",
       "    </tr>\n",
       "    <tr>\n",
       "      <th>Broker0826</th>\n",
       "      <td>0.000000e+00</td>\n",
       "    </tr>\n",
       "    <tr>\n",
       "      <th>Broker1885</th>\n",
       "      <td>0.000000e+00</td>\n",
       "    </tr>\n",
       "  </tbody>\n",
       "</table>\n",
       "<p>1885 rows × 1 columns</p>\n",
       "</div>"
      ],
      "text/plain": [
       "             firm_x_sales\n",
       "broker_name              \n",
       "Broker0001   5.041548e+09\n",
       "Broker0005   1.817700e+09\n",
       "Broker0016   1.338868e+09\n",
       "Broker0022   1.309999e+09\n",
       "Broker0021   1.181644e+09\n",
       "...                   ...\n",
       "Broker0829   0.000000e+00\n",
       "Broker0828   0.000000e+00\n",
       "Broker0827   0.000000e+00\n",
       "Broker0826   0.000000e+00\n",
       "Broker1885   0.000000e+00\n",
       "\n",
       "[1885 rows x 1 columns]"
      ]
     },
     "execution_count": 15,
     "metadata": {},
     "output_type": "execute_result"
    }
   ],
   "source": [
    "# Sorting records in descending order according to total_industry_sales\n",
    "total_brokers = total_brokers.sort_values(by='firm_x_sales',ascending=False)\n",
    "total_brokers"
   ]
  },
  {
   "cell_type": "code",
   "execution_count": 16,
   "metadata": {},
   "outputs": [
    {
     "data": {
      "text/html": [
       "<div>\n",
       "<style scoped>\n",
       "    .dataframe tbody tr th:only-of-type {\n",
       "        vertical-align: middle;\n",
       "    }\n",
       "\n",
       "    .dataframe tbody tr th {\n",
       "        vertical-align: top;\n",
       "    }\n",
       "\n",
       "    .dataframe thead th {\n",
       "        text-align: right;\n",
       "    }\n",
       "</style>\n",
       "<table border=\"1\" class=\"dataframe\">\n",
       "  <thead>\n",
       "    <tr style=\"text-align: right;\">\n",
       "      <th></th>\n",
       "      <th>firm_x_sales</th>\n",
       "    </tr>\n",
       "    <tr>\n",
       "      <th>broker_name</th>\n",
       "      <th></th>\n",
       "    </tr>\n",
       "  </thead>\n",
       "  <tbody>\n",
       "    <tr>\n",
       "      <th>Broker0001</th>\n",
       "      <td>5.041548e+09</td>\n",
       "    </tr>\n",
       "    <tr>\n",
       "      <th>Broker0005</th>\n",
       "      <td>1.817700e+09</td>\n",
       "    </tr>\n",
       "    <tr>\n",
       "      <th>Broker0016</th>\n",
       "      <td>1.338868e+09</td>\n",
       "    </tr>\n",
       "    <tr>\n",
       "      <th>Broker0022</th>\n",
       "      <td>1.309999e+09</td>\n",
       "    </tr>\n",
       "    <tr>\n",
       "      <th>Broker0021</th>\n",
       "      <td>1.181644e+09</td>\n",
       "    </tr>\n",
       "    <tr>\n",
       "      <th>Broker0024</th>\n",
       "      <td>1.128769e+09</td>\n",
       "    </tr>\n",
       "    <tr>\n",
       "      <th>Broker0027</th>\n",
       "      <td>1.071439e+09</td>\n",
       "    </tr>\n",
       "    <tr>\n",
       "      <th>Broker0003</th>\n",
       "      <td>8.282360e+08</td>\n",
       "    </tr>\n",
       "    <tr>\n",
       "      <th>Broker0009</th>\n",
       "      <td>6.105287e+08</td>\n",
       "    </tr>\n",
       "    <tr>\n",
       "      <th>Broker0032</th>\n",
       "      <td>4.628915e+08</td>\n",
       "    </tr>\n",
       "  </tbody>\n",
       "</table>\n",
       "</div>"
      ],
      "text/plain": [
       "             firm_x_sales\n",
       "broker_name              \n",
       "Broker0001   5.041548e+09\n",
       "Broker0005   1.817700e+09\n",
       "Broker0016   1.338868e+09\n",
       "Broker0022   1.309999e+09\n",
       "Broker0021   1.181644e+09\n",
       "Broker0024   1.128769e+09\n",
       "Broker0027   1.071439e+09\n",
       "Broker0003   8.282360e+08\n",
       "Broker0009   6.105287e+08\n",
       "Broker0032   4.628915e+08"
      ]
     },
     "execution_count": 16,
     "metadata": {},
     "output_type": "execute_result"
    }
   ],
   "source": [
    "# Top 10 brokers\n",
    "top_10_brokers = total_brokers.head(10)\n",
    "top_10_brokers"
   ]
  },
  {
   "cell_type": "code",
   "execution_count": 17,
   "metadata": {},
   "outputs": [
    {
     "data": {
      "text/plain": [
       "<matplotlib.axes._subplots.AxesSubplot at 0x1959a074630>"
      ]
     },
     "execution_count": 17,
     "metadata": {},
     "output_type": "execute_result"
    },
    {
     "data": {
      "image/png": "[encoded data removed]",
      "text/plain": [
       "<Figure size 1346.4x739.44 with 1 Axes>"
      ]
     },
     "metadata": {},
     "output_type": "display_data"
    }
   ],
   "source": [
    "top_10_brokers.plot()"
   ]
  },
  {
   "cell_type": "code",
   "execution_count": 18,
   "metadata": {},
   "outputs": [
    {
     "data": {
      "text/plain": [
       "<matplotlib.axes._subplots.AxesSubplot at 0x1959a149278>"
      ]
     },
     "execution_count": 18,
     "metadata": {},
     "output_type": "execute_result"
    },
    {
     "data": {
      "image/png": "[encoded data removed]",
      "text/plain": [
       "<Figure size 1346.4x739.44 with 1 Axes>"
      ]
     },
     "metadata": {},
     "output_type": "display_data"
    }
   ],
   "source": [
    "sns.barplot(x=top_10_brokers.index.values.tolist(), y=top_10_brokers['firm_x_sales'].values.tolist())"
   ]
  },
  {
   "cell_type": "markdown",
   "metadata": {},
   "source": [
    "### Top 10 brokers which cover max number of cities with respect to firm_x sales"
   ]
  },
  {
   "cell_type": "code",
   "execution_count": 19,
   "metadata": {},
   "outputs": [],
   "source": [
    "total_brokers = pd.DataFrame(df.groupby('broker_name')['firm_x_sales'].sum())\n",
    "total_brokers = total_brokers.sort_values(by='firm_x_sales',ascending=False)\n",
    "brokers = total_brokers.head(10).index.values.tolist()\n",
    "cities_count = []\n",
    "\n",
    "for x in range(0,10):\n",
    "    temp_records = df[df['broker_name']==brokers[x]]\n",
    "    # temp_records = temp_records[temp_records['territory'].astype(str).str[0]==\"I\"]\n",
    "    unique_cities = len(temp_records['city_state'].unique())\n",
    "    cities_count.append(unique_cities)"
   ]
  },
  {
   "cell_type": "code",
   "execution_count": 20,
   "metadata": {},
   "outputs": [
    {
     "data": {
      "text/plain": [
       "<matplotlib.axes._subplots.AxesSubplot at 0x1959a1f3400>"
      ]
     },
     "execution_count": 20,
     "metadata": {},
     "output_type": "execute_result"
    },
    {
     "data": {
      "image/png": "[encoded data removed]",
      "text/plain": [
       "<Figure size 1346.4x739.44 with 1 Axes>"
      ]
     },
     "metadata": {},
     "output_type": "display_data"
    }
   ],
   "source": [
    "sns.scatterplot(x=brokers, y=cities_count,palette=\"deep\",s=120)"
   ]
  },
  {
   "cell_type": "markdown",
   "metadata": {},
   "source": [
    "### Top 10 brokers which cover max number of cities with respect to industry total sales"
   ]
  },
  {
   "cell_type": "code",
   "execution_count": 21,
   "metadata": {},
   "outputs": [],
   "source": [
    "total_brokers = pd.DataFrame(df.groupby('broker_name')['total_industry_sales'].sum())\n",
    "total_brokers = total_brokers.sort_values(by='total_industry_sales',ascending=False)\n",
    "brokers = total_brokers.head(10).index.values.tolist()\n",
    "cities_count = []\n",
    "\n",
    "for x in range(0,10):\n",
    "    temp_records = df[df['broker_name']==brokers[x]]\n",
    "    # temp_records = temp_records[temp_records['territory'].astype(str).str[0]==\"I\"]\n",
    "    unique_cities = len(temp_records['city_state'].unique())\n",
    "    cities_count.append(unique_cities)"
   ]
  },
  {
   "cell_type": "code",
   "execution_count": 22,
   "metadata": {},
   "outputs": [
    {
     "data": {
      "text/plain": [
       "<matplotlib.axes._subplots.AxesSubplot at 0x1959a156668>"
      ]
     },
     "execution_count": 22,
     "metadata": {},
     "output_type": "execute_result"
    },
    {
     "data": {
      "image/png": "[encoded data removed]",
      "text/plain": [
       "<Figure size 1346.4x739.44 with 1 Axes>"
      ]
     },
     "metadata": {},
     "output_type": "display_data"
    }
   ],
   "source": [
    "sns.scatterplot(x=brokers, y=cities_count,palette=\"deep\",s=120)"
   ]
  },
  {
   "cell_type": "markdown",
   "metadata": {},
   "source": [
    "# Let's go for the cities now"
   ]
  },
  {
   "cell_type": "markdown",
   "metadata": {},
   "source": [
    "### Top 10 Cities with respect to total industry sales"
   ]
  },
  {
   "cell_type": "code",
   "execution_count": 23,
   "metadata": {},
   "outputs": [
    {
     "data": {
      "text/plain": [
       "<matplotlib.axes._subplots.AxesSubplot at 0x1959ac42978>"
      ]
     },
     "execution_count": 23,
     "metadata": {},
     "output_type": "execute_result"
    },
    {
     "data": {
      "image/png": "[encoded data removed]",
      "text/plain": [
       "<Figure size 1346.4x739.44 with 1 Axes>"
      ]
     },
     "metadata": {},
     "output_type": "display_data"
    }
   ],
   "source": [
    "total_cities = pd.DataFrame(df.groupby('city_state')['total_industry_sales'].sum())\n",
    "total_cities = total_cities.sort_values(by='total_industry_sales',ascending=False)\n",
    "top_10_cities = total_cities.head(10)\n",
    "\n",
    "sns.barplot(x=top_10_cities.index.values.tolist(), y=top_10_cities['total_industry_sales'].values.tolist())"
   ]
  },
  {
   "cell_type": "code",
   "execution_count": 24,
   "metadata": {},
   "outputs": [
    {
     "data": {
      "text/plain": [
       "<matplotlib.axes._subplots.AxesSubplot at 0x1959ace4cf8>"
      ]
     },
     "execution_count": 24,
     "metadata": {},
     "output_type": "execute_result"
    },
    {
     "data": {
      "image/png": "[encoded data removed]",
      "text/plain": [
       "<Figure size 1346.4x739.44 with 1 Axes>"
      ]
     },
     "metadata": {},
     "output_type": "display_data"
    }
   ],
   "source": [
    "top_10_cities.plot()"
   ]
  },
  {
   "cell_type": "markdown",
   "metadata": {},
   "source": [
    "### Top 10 Cities with respect to firm x sales"
   ]
  },
  {
   "cell_type": "code",
   "execution_count": 25,
   "metadata": {},
   "outputs": [
    {
     "data": {
      "text/plain": [
       "<matplotlib.axes._subplots.AxesSubplot at 0x1959b272240>"
      ]
     },
     "execution_count": 25,
     "metadata": {},
     "output_type": "execute_result"
    },
    {
     "data": {
      "image/png": "[encoded data removed]",
      "text/plain": [
       "<Figure size 1346.4x739.44 with 1 Axes>"
      ]
     },
     "metadata": {},
     "output_type": "display_data"
    }
   ],
   "source": [
    "total_cities = pd.DataFrame(df.groupby('city_state')['firm_x_sales'].sum())\n",
    "total_cities = total_cities.sort_values(by='firm_x_sales',ascending=False)\n",
    "top_10_cities = total_cities.head(10)\n",
    "\n",
    "sns.barplot(x=top_10_cities.index.values.tolist(), y=top_10_cities['firm_x_sales'].values.tolist(),palette='Reds_r')"
   ]
  },
  {
   "cell_type": "markdown",
   "metadata": {},
   "source": [
    "### Top 10 Cities which cover maximum number of territories"
   ]
  },
  {
   "cell_type": "code",
   "execution_count": 26,
   "metadata": {},
   "outputs": [
    {
     "data": {
      "text/html": [
       "<div>\n",
       "<style scoped>\n",
       "    .dataframe tbody tr th:only-of-type {\n",
       "        vertical-align: middle;\n",
       "    }\n",
       "\n",
       "    .dataframe tbody tr th {\n",
       "        vertical-align: top;\n",
       "    }\n",
       "\n",
       "    .dataframe thead th {\n",
       "        text-align: right;\n",
       "    }\n",
       "</style>\n",
       "<table border=\"1\" class=\"dataframe\">\n",
       "  <thead>\n",
       "    <tr style=\"text-align: right;\">\n",
       "      <th></th>\n",
       "      <th>territory</th>\n",
       "    </tr>\n",
       "    <tr>\n",
       "      <th>city_state</th>\n",
       "      <th></th>\n",
       "    </tr>\n",
       "  </thead>\n",
       "  <tbody>\n",
       "    <tr>\n",
       "      <th>NEW YORK, NY</th>\n",
       "      <td>11711</td>\n",
       "    </tr>\n",
       "    <tr>\n",
       "      <th>HOUSTON, TX</th>\n",
       "      <td>11172</td>\n",
       "    </tr>\n",
       "    <tr>\n",
       "      <th>SAN DIEGO, CA</th>\n",
       "      <td>10050</td>\n",
       "    </tr>\n",
       "    <tr>\n",
       "      <th>SAINT LOUIS, MO</th>\n",
       "      <td>7357</td>\n",
       "    </tr>\n",
       "    <tr>\n",
       "      <th>DALLAS, TX</th>\n",
       "      <td>7233</td>\n",
       "    </tr>\n",
       "    <tr>\n",
       "      <th>ATLANTA, GA</th>\n",
       "      <td>7109</td>\n",
       "    </tr>\n",
       "    <tr>\n",
       "      <th>CINCINNATI, OH</th>\n",
       "      <td>7090</td>\n",
       "    </tr>\n",
       "    <tr>\n",
       "      <th>AUSTIN, TX</th>\n",
       "      <td>7063</td>\n",
       "    </tr>\n",
       "    <tr>\n",
       "      <th>CHICAGO, IL</th>\n",
       "      <td>6803</td>\n",
       "    </tr>\n",
       "    <tr>\n",
       "      <th>INDIANAPOLIS, IN</th>\n",
       "      <td>6396</td>\n",
       "    </tr>\n",
       "  </tbody>\n",
       "</table>\n",
       "</div>"
      ],
      "text/plain": [
       "                  territory\n",
       "city_state                 \n",
       "NEW YORK, NY          11711\n",
       "HOUSTON, TX           11172\n",
       "SAN DIEGO, CA         10050\n",
       "SAINT LOUIS, MO        7357\n",
       "DALLAS, TX             7233\n",
       "ATLANTA, GA            7109\n",
       "CINCINNATI, OH         7090\n",
       "AUSTIN, TX             7063\n",
       "CHICAGO, IL            6803\n",
       "INDIANAPOLIS, IN       6396"
      ]
     },
     "execution_count": 26,
     "metadata": {},
     "output_type": "execute_result"
    }
   ],
   "source": [
    "cities_max_territories = pd.DataFrame(df.groupby('city_state')['territory'].count())\n",
    "cities_max_territories = cities_max_territories.sort_values(by='territory',ascending=False)\n",
    "cities_max_territories = cities_max_territories.head(10)\n",
    "cities_max_territories"
   ]
  },
  {
   "cell_type": "code",
   "execution_count": 27,
   "metadata": {},
   "outputs": [
    {
     "data": {
      "text/plain": [
       "<matplotlib.axes._subplots.AxesSubplot at 0x1959b256e48>"
      ]
     },
     "execution_count": 27,
     "metadata": {},
     "output_type": "execute_result"
    },
    {
     "data": {
      "image/png": "[encoded data removed]",
      "text/plain": [
       "<Figure size 1346.4x739.44 with 1 Axes>"
      ]
     },
     "metadata": {},
     "output_type": "display_data"
    }
   ],
   "source": [
    "sns.barplot(y=cities_max_territories.index.values.tolist(),x=cities_max_territories['territory'].values.tolist(),palette='Spectral')"
   ]
  },
  {
   "cell_type": "markdown",
   "metadata": {},
   "source": [
    "# Let's have a look on territories"
   ]
  },
  {
   "cell_type": "markdown",
   "metadata": {},
   "source": [
    "### Top 10 territories with respect to total industry sales"
   ]
  },
  {
   "cell_type": "code",
   "execution_count": 28,
   "metadata": {},
   "outputs": [
    {
     "data": {
      "text/html": [
       "<div>\n",
       "<style scoped>\n",
       "    .dataframe tbody tr th:only-of-type {\n",
       "        vertical-align: middle;\n",
       "    }\n",
       "\n",
       "    .dataframe tbody tr th {\n",
       "        vertical-align: top;\n",
       "    }\n",
       "\n",
       "    .dataframe thead th {\n",
       "        text-align: right;\n",
       "    }\n",
       "</style>\n",
       "<table border=\"1\" class=\"dataframe\">\n",
       "  <thead>\n",
       "    <tr style=\"text-align: right;\">\n",
       "      <th></th>\n",
       "      <th>total_industry_sales</th>\n",
       "    </tr>\n",
       "    <tr>\n",
       "      <th>territory</th>\n",
       "      <th></th>\n",
       "    </tr>\n",
       "  </thead>\n",
       "  <tbody>\n",
       "    <tr>\n",
       "      <th>I29</th>\n",
       "      <td>46665</td>\n",
       "    </tr>\n",
       "    <tr>\n",
       "      <th>I06</th>\n",
       "      <td>46421</td>\n",
       "    </tr>\n",
       "    <tr>\n",
       "      <th>I07</th>\n",
       "      <td>46180</td>\n",
       "    </tr>\n",
       "    <tr>\n",
       "      <th>I19</th>\n",
       "      <td>45111</td>\n",
       "    </tr>\n",
       "    <tr>\n",
       "      <th>I15</th>\n",
       "      <td>44161</td>\n",
       "    </tr>\n",
       "    <tr>\n",
       "      <th>I26</th>\n",
       "      <td>42273</td>\n",
       "    </tr>\n",
       "    <tr>\n",
       "      <th>I05</th>\n",
       "      <td>41853</td>\n",
       "    </tr>\n",
       "    <tr>\n",
       "      <th>I20</th>\n",
       "      <td>41851</td>\n",
       "    </tr>\n",
       "    <tr>\n",
       "      <th>I31</th>\n",
       "      <td>41609</td>\n",
       "    </tr>\n",
       "    <tr>\n",
       "      <th>I09</th>\n",
       "      <td>41533</td>\n",
       "    </tr>\n",
       "  </tbody>\n",
       "</table>\n",
       "</div>"
      ],
      "text/plain": [
       "           total_industry_sales\n",
       "territory                      \n",
       "I29                       46665\n",
       "I06                       46421\n",
       "I07                       46180\n",
       "I19                       45111\n",
       "I15                       44161\n",
       "I26                       42273\n",
       "I05                       41853\n",
       "I20                       41851\n",
       "I31                       41609\n",
       "I09                       41533"
      ]
     },
     "execution_count": 28,
     "metadata": {},
     "output_type": "execute_result"
    }
   ],
   "source": [
    "top_10_territories = pd.DataFrame(df.groupby('territory')['total_industry_sales'].count())\n",
    "top_10_territories = top_10_territories.sort_values(by='total_industry_sales',ascending=False)\n",
    "top_10_territories = top_10_territories.head(10)\n",
    "top_10_territories"
   ]
  },
  {
   "cell_type": "code",
   "execution_count": 29,
   "metadata": {},
   "outputs": [
    {
     "data": {
      "text/plain": [
       "<matplotlib.axes._subplots.AxesSubplot at 0x195a05432b0>"
      ]
     },
     "execution_count": 29,
     "metadata": {},
     "output_type": "execute_result"
    },
    {
     "data": {
      "image/png": "[encoded data removed]",
      "text/plain": [
       "<Figure size 1346.4x739.44 with 1 Axes>"
      ]
     },
     "metadata": {},
     "output_type": "display_data"
    }
   ],
   "source": [
    "sns.barplot(y=top_10_territories.index.values.tolist(),x=top_10_territories['total_industry_sales'].values.tolist(),palette='Spectral')"
   ]
  },
  {
   "cell_type": "markdown",
   "metadata": {},
   "source": [
    "###  Top 10 territories with respect to firm x sales"
   ]
  },
  {
   "cell_type": "code",
   "execution_count": 30,
   "metadata": {},
   "outputs": [
    {
     "data": {
      "text/plain": [
       "<matplotlib.axes._subplots.AxesSubplot at 0x195a088ca58>"
      ]
     },
     "execution_count": 30,
     "metadata": {},
     "output_type": "execute_result"
    },
    {
     "data": {
      "image/png": "[encoded data removed]",
      "text/plain": [
       "<Figure size 1346.4x739.44 with 1 Axes>"
      ]
     },
     "metadata": {},
     "output_type": "display_data"
    }
   ],
   "source": [
    "top_10_territories = pd.DataFrame(df.groupby('territory')['firm_x_sales'].count())\n",
    "top_10_territories = top_10_territories.sort_values(by='firm_x_sales',ascending=False)\n",
    "top_10_territories = top_10_territories.head(10)\n",
    "\n",
    "sns.barplot(y=top_10_territories.index.values.tolist(),x=top_10_territories['firm_x_sales'].values.tolist(),palette='Spectral')"
   ]
  },
  {
   "cell_type": "markdown",
   "metadata": {},
   "source": [
    "### Top 10 territories with respect to total industry sales in IBD Channel"
   ]
  },
  {
   "cell_type": "code",
   "execution_count": 31,
   "metadata": {},
   "outputs": [
    {
     "data": {
      "text/html": [
       "<div>\n",
       "<style scoped>\n",
       "    .dataframe tbody tr th:only-of-type {\n",
       "        vertical-align: middle;\n",
       "    }\n",
       "\n",
       "    .dataframe tbody tr th {\n",
       "        vertical-align: top;\n",
       "    }\n",
       "\n",
       "    .dataframe thead th {\n",
       "        text-align: right;\n",
       "    }\n",
       "</style>\n",
       "<table border=\"1\" class=\"dataframe\">\n",
       "  <thead>\n",
       "    <tr style=\"text-align: right;\">\n",
       "      <th></th>\n",
       "      <th>total_industry_sales</th>\n",
       "    </tr>\n",
       "    <tr>\n",
       "      <th>territory</th>\n",
       "      <th></th>\n",
       "    </tr>\n",
       "  </thead>\n",
       "  <tbody>\n",
       "    <tr>\n",
       "      <th>I29</th>\n",
       "      <td>46665</td>\n",
       "    </tr>\n",
       "    <tr>\n",
       "      <th>I06</th>\n",
       "      <td>46421</td>\n",
       "    </tr>\n",
       "    <tr>\n",
       "      <th>I07</th>\n",
       "      <td>46180</td>\n",
       "    </tr>\n",
       "    <tr>\n",
       "      <th>I19</th>\n",
       "      <td>45111</td>\n",
       "    </tr>\n",
       "    <tr>\n",
       "      <th>I15</th>\n",
       "      <td>44161</td>\n",
       "    </tr>\n",
       "    <tr>\n",
       "      <th>I26</th>\n",
       "      <td>42273</td>\n",
       "    </tr>\n",
       "    <tr>\n",
       "      <th>I05</th>\n",
       "      <td>41853</td>\n",
       "    </tr>\n",
       "    <tr>\n",
       "      <th>I20</th>\n",
       "      <td>41851</td>\n",
       "    </tr>\n",
       "    <tr>\n",
       "      <th>I31</th>\n",
       "      <td>41609</td>\n",
       "    </tr>\n",
       "    <tr>\n",
       "      <th>I09</th>\n",
       "      <td>41533</td>\n",
       "    </tr>\n",
       "  </tbody>\n",
       "</table>\n",
       "</div>"
      ],
      "text/plain": [
       "           total_industry_sales\n",
       "territory                      \n",
       "I29                       46665\n",
       "I06                       46421\n",
       "I07                       46180\n",
       "I19                       45111\n",
       "I15                       44161\n",
       "I26                       42273\n",
       "I05                       41853\n",
       "I20                       41851\n",
       "I31                       41609\n",
       "I09                       41533"
      ]
     },
     "execution_count": 31,
     "metadata": {},
     "output_type": "execute_result"
    }
   ],
   "source": [
    "top_10_territories = df[df['territory'].astype(str).str[0]==\"I\"]\n",
    "top_10_territories = pd.DataFrame(top_10_territories.groupby('territory')['total_industry_sales'].count())\n",
    "top_10_territories = top_10_territories.sort_values(by='total_industry_sales',ascending=False)\n",
    "top_10_territories = top_10_territories.head(10)\n",
    "top_10_territories"
   ]
  },
  {
   "cell_type": "code",
   "execution_count": 32,
   "metadata": {},
   "outputs": [
    {
     "data": {
      "text/plain": [
       "<matplotlib.axes._subplots.AxesSubplot at 0x195a0b876d8>"
      ]
     },
     "execution_count": 32,
     "metadata": {},
     "output_type": "execute_result"
    },
    {
     "data": {
      "image/png": "[encoded data removed]",
      "text/plain": [
       "<Figure size 1346.4x739.44 with 1 Axes>"
      ]
     },
     "metadata": {},
     "output_type": "display_data"
    }
   ],
   "source": [
    "sns.scatterplot(x=top_10_territories.index.values.tolist(), y=top_10_territories['total_industry_sales'].values.tolist(), legend=False)"
   ]
  },
  {
   "cell_type": "markdown",
   "metadata": {},
   "source": [
    "### Top 10 territories with respect to total industry sales in Wirehouse Channel"
   ]
  },
  {
   "cell_type": "code",
   "execution_count": 33,
   "metadata": {},
   "outputs": [
    {
     "data": {
      "text/plain": [
       "<matplotlib.axes._subplots.AxesSubplot at 0x195a0bf59e8>"
      ]
     },
     "execution_count": 33,
     "metadata": {},
     "output_type": "execute_result"
    },
    {
     "data": {
      "image/png": "[encoded data removed]",
      "text/plain": [
       "<Figure size 1346.4x739.44 with 1 Axes>"
      ]
     },
     "metadata": {},
     "output_type": "display_data"
    }
   ],
   "source": [
    "top_10_territories = df[df['territory'].astype(str).str[0]==\"W\"]\n",
    "top_10_territories = pd.DataFrame(top_10_territories.groupby('territory')['total_industry_sales'].count())\n",
    "top_10_territories = top_10_territories.sort_values(by='total_industry_sales',ascending=False)\n",
    "top_10_territories = top_10_territories.head(10)\n",
    "sns.scatterplot(x=top_10_territories.index.values.tolist(), y=top_10_territories['total_industry_sales'].values.tolist(), legend=False)"
   ]
  },
  {
   "cell_type": "markdown",
   "metadata": {},
   "source": [
    "### Top 10 territories with respect to firm x sales in IBD Channel"
   ]
  },
  {
   "cell_type": "code",
   "execution_count": 34,
   "metadata": {},
   "outputs": [
    {
     "data": {
      "text/plain": [
       "<matplotlib.axes._subplots.AxesSubplot at 0x195a16fbd30>"
      ]
     },
     "execution_count": 34,
     "metadata": {},
     "output_type": "execute_result"
    },
    {
     "data": {
      "image/png": "[encoded data removed]",
      "text/plain": [
       "<Figure size 1346.4x739.44 with 1 Axes>"
      ]
     },
     "metadata": {},
     "output_type": "display_data"
    }
   ],
   "source": [
    "top_10_territories = df[df['territory'].astype(str).str[0]==\"I\"]\n",
    "top_10_territories = pd.DataFrame(top_10_territories.groupby('territory')['firm_x_sales'].count())\n",
    "top_10_territories = top_10_territories.sort_values(by='firm_x_sales',ascending=False)\n",
    "top_10_territories = top_10_territories.head(10)\n",
    "sns.scatterplot(x=top_10_territories.index.values.tolist(), y=top_10_territories['firm_x_sales'].values.tolist(), legend=False)"
   ]
  },
  {
   "cell_type": "markdown",
   "metadata": {},
   "source": [
    "### Top 10 territories with respect to firm x sales in Wirehouse Channel\n"
   ]
  },
  {
   "cell_type": "code",
   "execution_count": 35,
   "metadata": {},
   "outputs": [
    {
     "data": {
      "text/plain": [
       "<matplotlib.axes._subplots.AxesSubplot at 0x195a19d8710>"
      ]
     },
     "execution_count": 35,
     "metadata": {},
     "output_type": "execute_result"
    },
    {
     "data": {
      "image/png": "[encoded data removed]",
      "text/plain": [
       "<Figure size 1346.4x739.44 with 1 Axes>"
      ]
     },
     "metadata": {},
     "output_type": "display_data"
    }
   ],
   "source": [
    "top_10_territories = df[df['territory'].astype(str).str[0]==\"W\"]\n",
    "top_10_territories = pd.DataFrame(top_10_territories.groupby('territory')['firm_x_sales'].count())\n",
    "top_10_territories = top_10_territories.sort_values(by='firm_x_sales',ascending=False)\n",
    "top_10_territories = top_10_territories.head(10)\n",
    "sns.scatterplot(x=top_10_territories.index.values.tolist(), y=top_10_territories['firm_x_sales'].values.tolist(), legend=False)"
   ]
  },
  {
   "cell_type": "markdown",
   "metadata": {},
   "source": [
    "# Last but not the least, Funds Category"
   ]
  },
  {
   "cell_type": "markdown",
   "metadata": {},
   "source": [
    "### Top 10 funds category with respect to total industry sales"
   ]
  },
  {
   "cell_type": "code",
   "execution_count": 36,
   "metadata": {},
   "outputs": [
    {
     "data": {
      "text/html": [
       "<div>\n",
       "<style scoped>\n",
       "    .dataframe tbody tr th:only-of-type {\n",
       "        vertical-align: middle;\n",
       "    }\n",
       "\n",
       "    .dataframe tbody tr th {\n",
       "        vertical-align: top;\n",
       "    }\n",
       "\n",
       "    .dataframe thead th {\n",
       "        text-align: right;\n",
       "    }\n",
       "</style>\n",
       "<table border=\"1\" class=\"dataframe\">\n",
       "  <thead>\n",
       "    <tr style=\"text-align: right;\">\n",
       "      <th></th>\n",
       "      <th>total_industry_sales</th>\n",
       "    </tr>\n",
       "    <tr>\n",
       "      <th>fund_category</th>\n",
       "      <th></th>\n",
       "    </tr>\n",
       "  </thead>\n",
       "  <tbody>\n",
       "    <tr>\n",
       "      <th>Multi Asset Alloc</th>\n",
       "      <td>57683</td>\n",
       "    </tr>\n",
       "    <tr>\n",
       "      <th>Large Growth</th>\n",
       "      <td>56997</td>\n",
       "    </tr>\n",
       "    <tr>\n",
       "      <th>Large Value</th>\n",
       "      <td>54941</td>\n",
       "    </tr>\n",
       "    <tr>\n",
       "      <th>Large Blend</th>\n",
       "      <td>54750</td>\n",
       "    </tr>\n",
       "    <tr>\n",
       "      <th>World Stock</th>\n",
       "      <td>50993</td>\n",
       "    </tr>\n",
       "    <tr>\n",
       "      <th>Intermediate-Term Bond</th>\n",
       "      <td>50376</td>\n",
       "    </tr>\n",
       "    <tr>\n",
       "      <th>High Yield Bond</th>\n",
       "      <td>48262</td>\n",
       "    </tr>\n",
       "    <tr>\n",
       "      <th>Nontrad Multisect Bond</th>\n",
       "      <td>47650</td>\n",
       "    </tr>\n",
       "    <tr>\n",
       "      <th>Diversified Emerging Mkts</th>\n",
       "      <td>46360</td>\n",
       "    </tr>\n",
       "    <tr>\n",
       "      <th>Foreign Large Growth</th>\n",
       "      <td>45012</td>\n",
       "    </tr>\n",
       "  </tbody>\n",
       "</table>\n",
       "</div>"
      ],
      "text/plain": [
       "                           total_industry_sales\n",
       "fund_category                                  \n",
       "Multi Asset Alloc                         57683\n",
       "Large Growth                              56997\n",
       "Large Value                               54941\n",
       "Large Blend                               54750\n",
       "World Stock                               50993\n",
       "Intermediate-Term Bond                    50376\n",
       "High Yield Bond                           48262\n",
       "Nontrad Multisect Bond                    47650\n",
       "Diversified Emerging Mkts                 46360\n",
       "Foreign Large Growth                      45012"
      ]
     },
     "execution_count": 36,
     "metadata": {},
     "output_type": "execute_result"
    }
   ],
   "source": [
    "top_10_funds = pd.DataFrame(df.groupby('fund_category')['total_industry_sales'].count())\n",
    "top_10_funds = top_10_funds.sort_values(by='total_industry_sales',ascending=False)\n",
    "top_10_funds = top_10_funds.head(10)\n",
    "top_10_funds"
   ]
  },
  {
   "cell_type": "code",
   "execution_count": 37,
   "metadata": {},
   "outputs": [
    {
     "data": {
      "text/plain": [
       "<matplotlib.axes._subplots.AxesSubplot at 0x195a054c320>"
      ]
     },
     "execution_count": 37,
     "metadata": {},
     "output_type": "execute_result"
    },
    {
     "data": {
      "image/png": "[encoded data removed]",
      "text/plain": [
       "<Figure size 1634.4x739.44 with 1 Axes>"
      ]
     },
     "metadata": {},
     "output_type": "display_data"
    }
   ],
   "source": [
    "sns.set(rc={'figure.figsize':(22.7,10.27)})\n",
    "sns.barplot(x=top_10_funds.index.values.tolist(), y=top_10_funds['total_industry_sales'].values.tolist(),palette='YlOrBr_r')"
   ]
  },
  {
   "cell_type": "markdown",
   "metadata": {},
   "source": [
    "### Top 10 funds category with respect to firm x sales"
   ]
  },
  {
   "cell_type": "code",
   "execution_count": 38,
   "metadata": {},
   "outputs": [
    {
     "data": {
      "text/html": [
       "<div>\n",
       "<style scoped>\n",
       "    .dataframe tbody tr th:only-of-type {\n",
       "        vertical-align: middle;\n",
       "    }\n",
       "\n",
       "    .dataframe tbody tr th {\n",
       "        vertical-align: top;\n",
       "    }\n",
       "\n",
       "    .dataframe thead th {\n",
       "        text-align: right;\n",
       "    }\n",
       "</style>\n",
       "<table border=\"1\" class=\"dataframe\">\n",
       "  <thead>\n",
       "    <tr style=\"text-align: right;\">\n",
       "      <th></th>\n",
       "      <th>firm_x_sales</th>\n",
       "    </tr>\n",
       "    <tr>\n",
       "      <th>fund_category</th>\n",
       "      <th></th>\n",
       "    </tr>\n",
       "  </thead>\n",
       "  <tbody>\n",
       "    <tr>\n",
       "      <th>Multi Asset Alloc</th>\n",
       "      <td>57683</td>\n",
       "    </tr>\n",
       "    <tr>\n",
       "      <th>Large Growth</th>\n",
       "      <td>56997</td>\n",
       "    </tr>\n",
       "    <tr>\n",
       "      <th>Large Value</th>\n",
       "      <td>54941</td>\n",
       "    </tr>\n",
       "    <tr>\n",
       "      <th>Large Blend</th>\n",
       "      <td>54750</td>\n",
       "    </tr>\n",
       "    <tr>\n",
       "      <th>World Stock</th>\n",
       "      <td>50993</td>\n",
       "    </tr>\n",
       "    <tr>\n",
       "      <th>Intermediate-Term Bond</th>\n",
       "      <td>50376</td>\n",
       "    </tr>\n",
       "    <tr>\n",
       "      <th>High Yield Bond</th>\n",
       "      <td>48262</td>\n",
       "    </tr>\n",
       "    <tr>\n",
       "      <th>Nontrad Multisect Bond</th>\n",
       "      <td>47650</td>\n",
       "    </tr>\n",
       "    <tr>\n",
       "      <th>Diversified Emerging Mkts</th>\n",
       "      <td>46360</td>\n",
       "    </tr>\n",
       "    <tr>\n",
       "      <th>Foreign Large Growth</th>\n",
       "      <td>45012</td>\n",
       "    </tr>\n",
       "  </tbody>\n",
       "</table>\n",
       "</div>"
      ],
      "text/plain": [
       "                           firm_x_sales\n",
       "fund_category                          \n",
       "Multi Asset Alloc                 57683\n",
       "Large Growth                      56997\n",
       "Large Value                       54941\n",
       "Large Blend                       54750\n",
       "World Stock                       50993\n",
       "Intermediate-Term Bond            50376\n",
       "High Yield Bond                   48262\n",
       "Nontrad Multisect Bond            47650\n",
       "Diversified Emerging Mkts         46360\n",
       "Foreign Large Growth              45012"
      ]
     },
     "execution_count": 38,
     "metadata": {},
     "output_type": "execute_result"
    }
   ],
   "source": [
    "top_10_funds = pd.DataFrame(df.groupby('fund_category')['firm_x_sales'].count())\n",
    "top_10_funds = top_10_funds.sort_values(by='firm_x_sales',ascending=False)\n",
    "top_10_funds = top_10_funds.head(10)\n",
    "top_10_funds"
   ]
  },
  {
   "cell_type": "code",
   "execution_count": 39,
   "metadata": {},
   "outputs": [
    {
     "data": {
      "text/plain": [
       "<matplotlib.axes._subplots.AxesSubplot at 0x1959b265898>"
      ]
     },
     "execution_count": 39,
     "metadata": {},
     "output_type": "execute_result"
    },
    {
     "data": {
      "image/png": "[encoded data removed]",
      "text/plain": [
       "<Figure size 1634.4x739.44 with 1 Axes>"
      ]
     },
     "metadata": {},
     "output_type": "display_data"
    }
   ],
   "source": [
    "sns.barplot(x=top_10_funds.index.values.tolist(), y=top_10_funds['firm_x_sales'].values.tolist(),palette='CMRmap')"
   ]
  },
  {
   "cell_type": "code",
   "execution_count": null,
   "metadata": {},
   "outputs": [],
   "source": []
  }
 ],
 "metadata": {
  "kernelspec": {
   "display_name": "Python 3",
   "language": "python",
   "name": "python3"
  },
  "language_info": {
   "codemirror_mode": {
    "name": "ipython",
    "version": 3
   },
   "file_extension": ".py",
   "mimetype": "text/x-python",
   "name": "python",
   "nbconvert_exporter": "python",
   "pygments_lexer": "ipython3",
   "version": "3.7.2"
  }
 },
 "nbformat": 4,
 "nbformat_minor": 1
}
